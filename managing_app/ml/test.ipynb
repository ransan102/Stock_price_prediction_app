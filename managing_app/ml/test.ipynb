{
 "cells": [
  {
   "cell_type": "code",
   "execution_count": 19,
   "metadata": {},
   "outputs": [],
   "source": [
    "from prophet import Prophet\n",
    "import pandas as pd"
   ]
  },
  {
   "cell_type": "code",
   "execution_count": 20,
   "metadata": {},
   "outputs": [
    {
     "data": {
      "text/html": [
       "<div>\n",
       "<style scoped>\n",
       "    .dataframe tbody tr th:only-of-type {\n",
       "        vertical-align: middle;\n",
       "    }\n",
       "\n",
       "    .dataframe tbody tr th {\n",
       "        vertical-align: top;\n",
       "    }\n",
       "\n",
       "    .dataframe thead th {\n",
       "        text-align: right;\n",
       "    }\n",
       "</style>\n",
       "<table border=\"1\" class=\"dataframe\">\n",
       "  <thead>\n",
       "    <tr style=\"text-align: right;\">\n",
       "      <th></th>\n",
       "      <th>データ日付</th>\n",
       "      <th>終値</th>\n",
       "      <th>始値</th>\n",
       "      <th>高値</th>\n",
       "      <th>安値</th>\n",
       "    </tr>\n",
       "  </thead>\n",
       "  <tbody>\n",
       "    <tr>\n",
       "      <th>0</th>\n",
       "      <td>2000/01/01</td>\n",
       "      <td>19539.70</td>\n",
       "      <td>19002.86</td>\n",
       "      <td>19539.70</td>\n",
       "      <td>18168.27</td>\n",
       "    </tr>\n",
       "    <tr>\n",
       "      <th>1</th>\n",
       "      <td>2000/02/01</td>\n",
       "      <td>19959.52</td>\n",
       "      <td>19423.38</td>\n",
       "      <td>20007.77</td>\n",
       "      <td>19367.83</td>\n",
       "    </tr>\n",
       "    <tr>\n",
       "      <th>2</th>\n",
       "      <td>2000/03/01</td>\n",
       "      <td>20337.32</td>\n",
       "      <td>20081.67</td>\n",
       "      <td>20706.65</td>\n",
       "      <td>19078.60</td>\n",
       "    </tr>\n",
       "    <tr>\n",
       "      <th>3</th>\n",
       "      <td>2000/04/01</td>\n",
       "      <td>17973.70</td>\n",
       "      <td>20726.99</td>\n",
       "      <td>20833.21</td>\n",
       "      <td>17973.70</td>\n",
       "    </tr>\n",
       "    <tr>\n",
       "      <th>4</th>\n",
       "      <td>2000/05/01</td>\n",
       "      <td>16332.45</td>\n",
       "      <td>18403.08</td>\n",
       "      <td>18439.36</td>\n",
       "      <td>16008.14</td>\n",
       "    </tr>\n",
       "  </tbody>\n",
       "</table>\n",
       "</div>"
      ],
      "text/plain": [
       "        データ日付        終値        始値        高値        安値\n",
       "0  2000/01/01  19539.70  19002.86  19539.70  18168.27\n",
       "1  2000/02/01  19959.52  19423.38  20007.77  19367.83\n",
       "2  2000/03/01  20337.32  20081.67  20706.65  19078.60\n",
       "3  2000/04/01  17973.70  20726.99  20833.21  17973.70\n",
       "4  2000/05/01  16332.45  18403.08  18439.36  16008.14"
      ]
     },
     "execution_count": 20,
     "metadata": {},
     "output_type": "execute_result"
    }
   ],
   "source": [
    "import codecs\n",
    "with codecs.open(\"./data/nikkei_stock_average_monthly_jp.csv\", \"r\", \"Shift-JIS\", \"ignore\") as file:\n",
    "    df = pd.read_table(file, delimiter=\",\")\n",
    "df.head()"
   ]
  },
  {
   "cell_type": "code",
   "execution_count": 21,
   "metadata": {},
   "outputs": [
    {
     "name": "stdout",
     "output_type": "stream",
     "text": [
      "267\n"
     ]
    },
    {
     "data": {
      "text/html": [
       "<div>\n",
       "<style scoped>\n",
       "    .dataframe tbody tr th:only-of-type {\n",
       "        vertical-align: middle;\n",
       "    }\n",
       "\n",
       "    .dataframe tbody tr th {\n",
       "        vertical-align: top;\n",
       "    }\n",
       "\n",
       "    .dataframe thead th {\n",
       "        text-align: right;\n",
       "    }\n",
       "</style>\n",
       "<table border=\"1\" class=\"dataframe\">\n",
       "  <thead>\n",
       "    <tr style=\"text-align: right;\">\n",
       "      <th></th>\n",
       "      <th>date</th>\n",
       "      <th>closing_price</th>\n",
       "      <th>open_price</th>\n",
       "      <th>higher_price</th>\n",
       "      <th>lower_price</th>\n",
       "    </tr>\n",
       "  </thead>\n",
       "  <tbody>\n",
       "    <tr>\n",
       "      <th>0</th>\n",
       "      <td>2000/01/01</td>\n",
       "      <td>19539.70</td>\n",
       "      <td>19002.86</td>\n",
       "      <td>19539.70</td>\n",
       "      <td>18168.27</td>\n",
       "    </tr>\n",
       "    <tr>\n",
       "      <th>1</th>\n",
       "      <td>2000/02/01</td>\n",
       "      <td>19959.52</td>\n",
       "      <td>19423.38</td>\n",
       "      <td>20007.77</td>\n",
       "      <td>19367.83</td>\n",
       "    </tr>\n",
       "    <tr>\n",
       "      <th>2</th>\n",
       "      <td>2000/03/01</td>\n",
       "      <td>20337.32</td>\n",
       "      <td>20081.67</td>\n",
       "      <td>20706.65</td>\n",
       "      <td>19078.60</td>\n",
       "    </tr>\n",
       "    <tr>\n",
       "      <th>3</th>\n",
       "      <td>2000/04/01</td>\n",
       "      <td>17973.70</td>\n",
       "      <td>20726.99</td>\n",
       "      <td>20833.21</td>\n",
       "      <td>17973.70</td>\n",
       "    </tr>\n",
       "    <tr>\n",
       "      <th>4</th>\n",
       "      <td>2000/05/01</td>\n",
       "      <td>16332.45</td>\n",
       "      <td>18403.08</td>\n",
       "      <td>18439.36</td>\n",
       "      <td>16008.14</td>\n",
       "    </tr>\n",
       "  </tbody>\n",
       "</table>\n",
       "</div>"
      ],
      "text/plain": [
       "         date  closing_price  open_price  higher_price  lower_price\n",
       "0  2000/01/01       19539.70    19002.86      19539.70     18168.27\n",
       "1  2000/02/01       19959.52    19423.38      20007.77     19367.83\n",
       "2  2000/03/01       20337.32    20081.67      20706.65     19078.60\n",
       "3  2000/04/01       17973.70    20726.99      20833.21     17973.70\n",
       "4  2000/05/01       16332.45    18403.08      18439.36     16008.14"
      ]
     },
     "execution_count": 21,
     "metadata": {},
     "output_type": "execute_result"
    }
   ],
   "source": [
    "df = df.rename(columns={\"データ日付\":\"date\", \"終値\":\"closing_price\", \"始値\":\"open_price\", \"高値\":\"higher_price\", \"安値\":\"lower_price\"})\n",
    "df = df[:-1]\n",
    "print(len(df))\n",
    "df.head()"
   ]
  },
  {
   "cell_type": "code",
   "execution_count": 22,
   "metadata": {},
   "outputs": [
    {
     "data": {
      "text/html": [
       "<div>\n",
       "<style scoped>\n",
       "    .dataframe tbody tr th:only-of-type {\n",
       "        vertical-align: middle;\n",
       "    }\n",
       "\n",
       "    .dataframe tbody tr th {\n",
       "        vertical-align: top;\n",
       "    }\n",
       "\n",
       "    .dataframe thead th {\n",
       "        text-align: right;\n",
       "    }\n",
       "</style>\n",
       "<table border=\"1\" class=\"dataframe\">\n",
       "  <thead>\n",
       "    <tr style=\"text-align: right;\">\n",
       "      <th></th>\n",
       "      <th>date</th>\n",
       "      <th>closing_price</th>\n",
       "      <th>open_price</th>\n",
       "      <th>higher_price</th>\n",
       "      <th>lower_price</th>\n",
       "    </tr>\n",
       "  </thead>\n",
       "  <tbody>\n",
       "    <tr>\n",
       "      <th>0</th>\n",
       "      <td>2000-01-01</td>\n",
       "      <td>19539.70</td>\n",
       "      <td>19002.86</td>\n",
       "      <td>19539.70</td>\n",
       "      <td>18168.27</td>\n",
       "    </tr>\n",
       "    <tr>\n",
       "      <th>1</th>\n",
       "      <td>2000-02-01</td>\n",
       "      <td>19959.52</td>\n",
       "      <td>19423.38</td>\n",
       "      <td>20007.77</td>\n",
       "      <td>19367.83</td>\n",
       "    </tr>\n",
       "    <tr>\n",
       "      <th>2</th>\n",
       "      <td>2000-03-01</td>\n",
       "      <td>20337.32</td>\n",
       "      <td>20081.67</td>\n",
       "      <td>20706.65</td>\n",
       "      <td>19078.60</td>\n",
       "    </tr>\n",
       "    <tr>\n",
       "      <th>3</th>\n",
       "      <td>2000-04-01</td>\n",
       "      <td>17973.70</td>\n",
       "      <td>20726.99</td>\n",
       "      <td>20833.21</td>\n",
       "      <td>17973.70</td>\n",
       "    </tr>\n",
       "    <tr>\n",
       "      <th>4</th>\n",
       "      <td>2000-05-01</td>\n",
       "      <td>16332.45</td>\n",
       "      <td>18403.08</td>\n",
       "      <td>18439.36</td>\n",
       "      <td>16008.14</td>\n",
       "    </tr>\n",
       "  </tbody>\n",
       "</table>\n",
       "</div>"
      ],
      "text/plain": [
       "        date  closing_price  open_price  higher_price  lower_price\n",
       "0 2000-01-01       19539.70    19002.86      19539.70     18168.27\n",
       "1 2000-02-01       19959.52    19423.38      20007.77     19367.83\n",
       "2 2000-03-01       20337.32    20081.67      20706.65     19078.60\n",
       "3 2000-04-01       17973.70    20726.99      20833.21     17973.70\n",
       "4 2000-05-01       16332.45    18403.08      18439.36     16008.14"
      ]
     },
     "execution_count": 22,
     "metadata": {},
     "output_type": "execute_result"
    }
   ],
   "source": [
    "#日付の処理\n",
    "df[\"date\"] = pd.to_datetime(df[\"date\"])\n",
    "df.head()"
   ]
  },
  {
   "cell_type": "code",
   "execution_count": 23,
   "metadata": {},
   "outputs": [
    {
     "name": "stdout",
     "output_type": "stream",
     "text": [
      "Unexpected exception formatting exception. Falling back to standard exception\n"
     ]
    },
    {
     "name": "stderr",
     "output_type": "stream",
     "text": [
      "Traceback (most recent call last):\n",
      "  File \"/Users/harusaku/Desktop/HaitLab/Stock_price_prediction_app/.env/lib/python3.9/site-packages/IPython/core/interactiveshell.py\", line 3369, in run_code\n",
      "  File \"/var/folders/b2/sz8856894cv9zhqvldw4j7780000gn/T/ipykernel_23361/2879353197.py\", line 1, in <cell line: 1>\n",
      "    import matplotlib.pyplot as plt\n",
      "  File \"/Users/harusaku/Desktop/HaitLab/Stock_price_prediction_app/.env/lib/python3.9/site-packages/matplotlib/pyplot.py\", line 2230, in <module>\n",
      "    switch_backend(rcParams[\"backend\"])\n",
      "  File \"/Users/harusaku/Desktop/HaitLab/Stock_price_prediction_app/.env/lib/python3.9/site-packages/matplotlib/pyplot.py\", line 267, in switch_backend\n",
      "    class backend_mod(matplotlib.backend_bases._Backend):\n",
      "  File \"/Users/harusaku/Desktop/HaitLab/Stock_price_prediction_app/.env/lib/python3.9/site-packages/matplotlib/pyplot.py\", line 268, in backend_mod\n",
      "    locals().update(vars(importlib.import_module(backend_name)))\n",
      "  File \"/Users/harusaku/anaconda3/lib/python3.9/importlib/__init__.py\", line 127, in import_module\n",
      "    return _bootstrap._gcd_import(name[level:], package, level)\n",
      "ModuleNotFoundError: No module named 'matplotlib_inline'\n",
      "\n",
      "During handling of the above exception, another exception occurred:\n",
      "\n",
      "Traceback (most recent call last):\n",
      "  File \"/Users/harusaku/Desktop/HaitLab/Stock_price_prediction_app/.env/lib/python3.9/site-packages/pygments/styles/__init__.py\", line 78, in get_style_by_name\n",
      "ModuleNotFoundError: No module named 'pygments.styles.default'\n",
      "\n",
      "During handling of the above exception, another exception occurred:\n",
      "\n",
      "Traceback (most recent call last):\n",
      "  File \"/Users/harusaku/Desktop/HaitLab/Stock_price_prediction_app/.env/lib/python3.9/site-packages/IPython/core/interactiveshell.py\", line 1982, in showtraceback\n",
      "  File \"/Users/harusaku/Desktop/HaitLab/Stock_price_prediction_app/.env/lib/python3.9/site-packages/IPython/core/ultratb.py\", line 1118, in structured_traceback\n",
      "  File \"/Users/harusaku/Desktop/HaitLab/Stock_price_prediction_app/.env/lib/python3.9/site-packages/IPython/core/ultratb.py\", line 1012, in structured_traceback\n",
      "  File \"/Users/harusaku/Desktop/HaitLab/Stock_price_prediction_app/.env/lib/python3.9/site-packages/IPython/core/ultratb.py\", line 865, in structured_traceback\n",
      "  File \"/Users/harusaku/Desktop/HaitLab/Stock_price_prediction_app/.env/lib/python3.9/site-packages/IPython/core/ultratb.py\", line 799, in format_exception_as_a_whole\n",
      "  File \"/Users/harusaku/Desktop/HaitLab/Stock_price_prediction_app/.env/lib/python3.9/site-packages/IPython/core/ultratb.py\", line 844, in get_records\n",
      "  File \"/Users/harusaku/Desktop/HaitLab/Stock_price_prediction_app/.env/lib/python3.9/site-packages/pygments/styles/__init__.py\", line 80, in get_style_by_name\n",
      "pygments.util.ClassNotFound: Could not find style module 'default', though it should be builtin.\n"
     ]
    }
   ],
   "source": [
    "import matplotlib.pyplot as plt\n",
    "%matplotlib inline"
   ]
  },
  {
   "cell_type": "code",
   "execution_count": 24,
   "metadata": {},
   "outputs": [
    {
     "name": "stdout",
     "output_type": "stream",
     "text": [
      "Unexpected exception formatting exception. Falling back to standard exception\n"
     ]
    },
    {
     "name": "stderr",
     "output_type": "stream",
     "text": [
      "Traceback (most recent call last):\n",
      "  File \"/Users/harusaku/Desktop/HaitLab/Stock_price_prediction_app/.env/lib/python3.9/site-packages/IPython/core/interactiveshell.py\", line 3369, in run_code\n",
      "  File \"/var/folders/b2/sz8856894cv9zhqvldw4j7780000gn/T/ipykernel_23361/2058804726.py\", line 4, in <cell line: 2>\n",
      "    plt.plot(t,y, label=df.columns[i])\n",
      "NameError: name 'plt' is not defined\n",
      "\n",
      "During handling of the above exception, another exception occurred:\n",
      "\n",
      "Traceback (most recent call last):\n",
      "  File \"/Users/harusaku/Desktop/HaitLab/Stock_price_prediction_app/.env/lib/python3.9/site-packages/pygments/styles/__init__.py\", line 78, in get_style_by_name\n",
      "ModuleNotFoundError: No module named 'pygments.styles.default'\n",
      "\n",
      "During handling of the above exception, another exception occurred:\n",
      "\n",
      "Traceback (most recent call last):\n",
      "  File \"/Users/harusaku/Desktop/HaitLab/Stock_price_prediction_app/.env/lib/python3.9/site-packages/IPython/core/interactiveshell.py\", line 1982, in showtraceback\n",
      "  File \"/Users/harusaku/Desktop/HaitLab/Stock_price_prediction_app/.env/lib/python3.9/site-packages/IPython/core/ultratb.py\", line 1118, in structured_traceback\n",
      "  File \"/Users/harusaku/Desktop/HaitLab/Stock_price_prediction_app/.env/lib/python3.9/site-packages/IPython/core/ultratb.py\", line 1012, in structured_traceback\n",
      "  File \"/Users/harusaku/Desktop/HaitLab/Stock_price_prediction_app/.env/lib/python3.9/site-packages/IPython/core/ultratb.py\", line 865, in structured_traceback\n",
      "  File \"/Users/harusaku/Desktop/HaitLab/Stock_price_prediction_app/.env/lib/python3.9/site-packages/IPython/core/ultratb.py\", line 799, in format_exception_as_a_whole\n",
      "  File \"/Users/harusaku/Desktop/HaitLab/Stock_price_prediction_app/.env/lib/python3.9/site-packages/IPython/core/ultratb.py\", line 844, in get_records\n",
      "  File \"/Users/harusaku/Desktop/HaitLab/Stock_price_prediction_app/.env/lib/python3.9/site-packages/pygments/styles/__init__.py\", line 80, in get_style_by_name\n",
      "pygments.util.ClassNotFound: Could not find style module 'default', though it should be builtin.\n"
     ]
    }
   ],
   "source": [
    "t = df.date\n",
    "for i in range(1,4):\n",
    "    y = df.iloc[:, i]\n",
    "    plt.plot(t,y, label=df.columns[i])\n",
    "plt.legend()\n",
    "plt.show()"
   ]
  },
  {
   "cell_type": "code",
   "execution_count": null,
   "metadata": {},
   "outputs": [],
   "source": [
    "#予測\n",
    "m = Prophet(seasonality_mode=\"multiplicative\")\n",
    "df_closing = df[[\"date\", \"closing_price\"]].rename(columns={\"date\":\"ds\", \"closing_price\":\"y\"})\n",
    "m.fit(df_closing)"
   ]
  },
  {
   "cell_type": "code",
   "execution_count": null,
   "metadata": {},
   "outputs": [],
   "source": [
    "future = m.make_future_dataframe(periods=120, freq=\"MS\")\n",
    "future.tail()"
   ]
  },
  {
   "cell_type": "code",
   "execution_count": null,
   "metadata": {},
   "outputs": [],
   "source": [
    "forecast = m.predict(future)\n",
    "forecast[[\"ds\", \"yhat\", \"yhat_lower\", \"yhat_upper\"]].tail()"
   ]
  },
  {
   "cell_type": "code",
   "execution_count": null,
   "metadata": {},
   "outputs": [],
   "source": [
    "fig1 = m.plot(forecast)\n",
    "print(type(fig1))"
   ]
  },
  {
   "cell_type": "code",
   "execution_count": null,
   "metadata": {},
   "outputs": [],
   "source": [
    "fig2 = m.plot_components(forecast)"
   ]
  },
  {
   "cell_type": "code",
   "execution_count": null,
   "metadata": {},
   "outputs": [],
   "source": [
    "import pandas as pd\n",
    "import pandas_datareader.data as web"
   ]
  },
  {
   "cell_type": "code",
   "execution_count": null,
   "metadata": {},
   "outputs": [],
   "source": [
    "df = web.DataReader(\"9020.T\", data_source=\"yahoo\", start=\"2000-01-01\")\n",
    "df.head()"
   ]
  },
  {
   "cell_type": "code",
   "execution_count": null,
   "metadata": {},
   "outputs": [],
   "source": [
    "df.shape\n",
    "df.reset_index(inplace=True)\n",
    "df.columns"
   ]
  },
  {
   "cell_type": "code",
   "execution_count": null,
   "metadata": {},
   "outputs": [],
   "source": [
    "df_predict = df[[\"Date\", \"Adj Close\"]].rename(columns={\"Date\":\"ds\", \"Adj Close\":\"y\"})\n",
    "df_predict.head()"
   ]
  },
  {
   "cell_type": "code",
   "execution_count": null,
   "metadata": {},
   "outputs": [],
   "source": [
    "m = Prophet()\n",
    "m.fit(df_predict)"
   ]
  },
  {
   "cell_type": "code",
   "execution_count": null,
   "metadata": {},
   "outputs": [],
   "source": [
    "future = m.make_future_dataframe(periods=365)\n",
    "future.tail()"
   ]
  },
  {
   "cell_type": "code",
   "execution_count": null,
   "metadata": {},
   "outputs": [],
   "source": [
    "forecast = m.predict(future)\n",
    "forecast[[\"ds\", \"yhat\", \"yhat_lower\", \"yhat_upper\"]].tail(10)"
   ]
  },
  {
   "cell_type": "code",
   "execution_count": null,
   "metadata": {},
   "outputs": [],
   "source": [
    "fig1 = m.plot(forecast)\n",
    "type(fig1)"
   ]
  },
  {
   "cell_type": "code",
   "execution_count": null,
   "metadata": {},
   "outputs": [],
   "source": [
    "fig2 = m.plot_components(forecast)"
   ]
  },
  {
   "cell_type": "code",
   "execution_count": null,
   "metadata": {},
   "outputs": [],
   "source": [
    "df = pd.read_excel(\"../managing_app/templates/data_j.xlsx\")\n",
    "df = df[[\"コード\",\"銘柄名\",\"市場・商品区分\", \"33業種コード\", \"33業種区分\"]]\n",
    "df.head()"
   ]
  },
  {
   "cell_type": "code",
   "execution_count": null,
   "metadata": {},
   "outputs": [],
   "source": [
    "special = df[df[\"33業種コード\"] == \"-\"]\n",
    "special"
   ]
  },
  {
   "cell_type": "code",
   "execution_count": null,
   "metadata": {},
   "outputs": [],
   "source": [
    "igai33 = list(set(special[\"市場・商品区分\"].tolist()))\n",
    "igai33"
   ]
  },
  {
   "cell_type": "code",
   "execution_count": null,
   "metadata": {},
   "outputs": [],
   "source": [
    "data = {}\n",
    "for content in igai33:\n",
    "    kind = special[special[\"市場・商品区分\"]==content]\n",
    "    data[content] = kind[\"銘柄名\"].tolist()\n",
    "    print(len(data[content]))\n",
    "kind[\"銘柄名\"]"
   ]
  },
  {
   "cell_type": "code",
   "execution_count": null,
   "metadata": {},
   "outputs": [],
   "source": [
    "data"
   ]
  },
  {
   "cell_type": "code",
   "execution_count": null,
   "metadata": {},
   "outputs": [],
   "source": [
    "import numpy as np\n",
    "df2 = df.replace({\"-\": np.nan})"
   ]
  },
  {
   "cell_type": "code",
   "execution_count": null,
   "metadata": {},
   "outputs": [],
   "source": [
    "df_33 = df[(df[\"33業種コード\"] != \"-\") & (df[\"33業種区分\"] != \"-\")] \n",
    "df_33"
   ]
  },
  {
   "cell_type": "code",
   "execution_count": null,
   "metadata": {},
   "outputs": [],
   "source": [
    "gyousyu33 = list(set(df_33[\"33業種区分\"].tolist()))\n",
    "gyousyu33"
   ]
  },
  {
   "cell_type": "code",
   "execution_count": null,
   "metadata": {},
   "outputs": [],
   "source": [
    "for content in gyousyu33:\n",
    "    kind = df_33[df_33[\"33業種区分\"] == content]\n",
    "    data[content] = kind[\"銘柄名\"].tolist()\n",
    "data"
   ]
  },
  {
   "cell_type": "code",
   "execution_count": null,
   "metadata": {},
   "outputs": [],
   "source": [
    "print(data.keys())"
   ]
  },
  {
   "cell_type": "code",
   "execution_count": null,
   "metadata": {},
   "outputs": [],
   "source": [
    "# データの受け取り先は改訂予定\n",
    "df = pd.read_excel(\"../managing_app/templates/data_j.xlsx\")\n",
    "df = df[[\"コード\",\"銘柄名\",\"市場・商品区分\", \"33業種コード\", \"33業種区分\"]]\n",
    "\n",
    "#33業種以外の物を抽出\n",
    "special = df[df[\"33業種コード\"] == \"-\"]\n",
    "\n",
    "#33業種以外の銘柄名をリスト化\n",
    "igai33 = list(set(special[\"市場・商品区分\"].tolist()))\n",
    "\n",
    "#業種ごとに銘柄を辞書でまとめる1\n",
    "data = {}\n",
    "for content in igai33:\n",
    "    kind = special[special[\"33業種区分\"] == content]\n",
    "    data[content] = kind[\"銘柄名\"].tolist()\n",
    "\n",
    "#33業種を抽出\n",
    "df_33 = df[(df[\"33業種コード\"] != \"-\") & (df[\"33業種区分\"] != \"-\")] \n",
    "\n",
    "# 33業種をリスト化\n",
    "\n",
    "gyousyu33 = list(set(df_33[\"33業種区分\"].tolist()))\n",
    "\n",
    "#業種ごとに銘柄を辞書でまとめる2\n",
    "for content in gyousyu33:\n",
    "    kind = df_33[df_33[\"33業種区分\"] == content]\n",
    "    data[content] = kind[\"銘柄名\"].tolist()\n",
    "\n",
    "gyousyu33.extend(igai33)"
   ]
  },
  {
   "cell_type": "code",
   "execution_count": null,
   "metadata": {},
   "outputs": [],
   "source": [
    "data"
   ]
  },
  {
   "cell_type": "code",
   "execution_count": null,
   "metadata": {},
   "outputs": [],
   "source": []
  }
 ],
 "metadata": {
  "interpreter": {
   "hash": "621057f515cda34962b0c695a999f54085e3d230c88f363ba8bbace4c94731ec"
  },
  "kernelspec": {
   "display_name": "Python 3.9.7 ('.env': venv)",
   "language": "python",
   "name": "python3"
  },
  "language_info": {
   "codemirror_mode": {
    "name": "ipython",
    "version": 3
   },
   "file_extension": ".py",
   "mimetype": "text/x-python",
   "name": "python",
   "nbconvert_exporter": "python",
   "pygments_lexer": "ipython3",
   "version": "3.9.7"
  },
  "orig_nbformat": 4
 },
 "nbformat": 4,
 "nbformat_minor": 2
}
